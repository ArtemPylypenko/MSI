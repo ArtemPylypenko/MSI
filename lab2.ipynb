{
 "cells": [
  {
   "cell_type": "code",
   "execution_count": null,
   "id": "eaed1059-1f30-42c2-b1cc-65222381828b",
   "metadata": {},
   "outputs": [],
   "source": []
  },
  {
   "cell_type": "code",
   "execution_count": 6,
   "id": "6986cfbe-500f-48c6-87e0-a7a446c4ed12",
   "metadata": {},
   "outputs": [
    {
     "name": "stdin",
     "output_type": "stream",
     "text": [
      "Введіть розмірність матриці n × n:  10\n"
     ]
    },
    {
     "name": "stdout",
     "output_type": "stream",
     "text": [
      "[[1 0 1 0 1 0 1 0 1 0]\n",
      " [0 1 0 1 0 1 0 1 0 1]\n",
      " [1 0 1 0 1 0 1 0 1 0]\n",
      " [0 1 0 1 0 1 0 1 0 1]\n",
      " [1 0 1 0 1 0 1 0 1 0]\n",
      " [0 1 0 1 0 1 0 1 0 1]\n",
      " [1 0 1 0 1 0 1 0 1 0]\n",
      " [0 1 0 1 0 1 0 1 0 1]\n",
      " [1 0 1 0 1 0 1 0 1 0]\n",
      " [0 1 0 1 0 1 0 1 0 1]]\n"
     ]
    }
   ],
   "source": [
    "import numpy as np\n",
    "\n",
    "def chessboard_with_numpy(n):\n",
    "    # Створення матриці розміром n × n, заповненої нулями\n",
    "    board = np.zeros((n, n), dtype=int)\n",
    "    \n",
    "    # Заповнення шахового порядку з використанням слайсінгу\n",
    "    board[::2, ::2] = 1\n",
    "    board[1::2, 1::2] = 1\n",
    "    \n",
    "    return board\n",
    "\n",
    "# Введення числа n\n",
    "n = int(input(\"Введіть розмірність матриці n × n: \"))\n",
    "chessboard = chessboard_with_numpy(n)\n",
    "print(chessboard)"
   ]
  },
  {
   "cell_type": "code",
   "execution_count": 7,
   "id": "1472695a-2c5b-482e-bc58-b5294c3aab9c",
   "metadata": {},
   "outputs": [
    {
     "name": "stdin",
     "output_type": "stream",
     "text": [
      "Введіть розмірність матриці n × n:  10\n"
     ]
    },
    {
     "name": "stdout",
     "output_type": "stream",
     "text": [
      "[1, 0, 1, 0, 1, 0, 1, 0, 1, 0]\n",
      "[0, 1, 0, 1, 0, 1, 0, 1, 0, 1]\n",
      "[1, 0, 1, 0, 1, 0, 1, 0, 1, 0]\n",
      "[0, 1, 0, 1, 0, 1, 0, 1, 0, 1]\n",
      "[1, 0, 1, 0, 1, 0, 1, 0, 1, 0]\n",
      "[0, 1, 0, 1, 0, 1, 0, 1, 0, 1]\n",
      "[1, 0, 1, 0, 1, 0, 1, 0, 1, 0]\n",
      "[0, 1, 0, 1, 0, 1, 0, 1, 0, 1]\n",
      "[1, 0, 1, 0, 1, 0, 1, 0, 1, 0]\n",
      "[0, 1, 0, 1, 0, 1, 0, 1, 0, 1]\n"
     ]
    }
   ],
   "source": [
    "def chessboard_with_loops(n):\n",
    "    board = []  # Початково пуста матриця\n",
    "    for i in range(n):\n",
    "        row = []  # Початково пустий рядок\n",
    "        for j in range(n):\n",
    "            # Заповнення шахового порядку\n",
    "            if (i + j) % 2 == 0:\n",
    "                row.append(1)\n",
    "            else:\n",
    "                row.append(0)\n",
    "        board.append(row)\n",
    "    return board\n",
    "\n",
    "# Введення числа n\n",
    "n = int(input(\"Введіть розмірність матриці n × n: \"))\n",
    "chessboard = chessboard_with_loops(n)\n",
    "for row in chessboard:\n",
    "    print(row)"
   ]
  },
  {
   "cell_type": "code",
   "execution_count": 3,
   "id": "52c27609-144b-4122-9de7-257bcddc6c5d",
   "metadata": {},
   "outputs": [
    {
     "name": "stdin",
     "output_type": "stream",
     "text": [
      "Введіть кількість рядків (n):  10\n",
      "Введіть кількість стовпців (m):  10\n"
     ]
    },
    {
     "name": "stdout",
     "output_type": "stream",
     "text": [
      "[[0 1 2 3 4 5 6 7 8 9]\n",
      " [0 0 0 0 0 0 0 0 0 0]\n",
      " [0 0 0 0 0 0 0 0 0 0]\n",
      " [0 0 0 0 0 0 0 0 0 0]\n",
      " [0 0 0 0 0 0 0 0 0 0]\n",
      " [0 0 0 0 0 0 0 0 0 0]\n",
      " [0 0 0 0 0 0 0 0 0 0]\n",
      " [0 0 0 0 0 0 0 0 0 0]\n",
      " [0 0 0 0 0 0 0 0 0 0]\n",
      " [0 0 0 0 0 0 0 0 0 0]]\n"
     ]
    }
   ],
   "source": [
    "import numpy as np\n",
    "\n",
    "def generate_array_with_numpy(n, m):\n",
    "    # Створення матриці розміром n × m\n",
    "    array = np.zeros((n, m), dtype=int)\n",
    "    \n",
    "    # Заповнення першого рядка числами від 0 до m-1\n",
    "    array[0] = np.arange(m)\n",
    "    \n",
    "    return array\n",
    "\n",
    "# Введення чисел n і m\n",
    "n = int(input(\"Введіть кількість рядків (n): \"))\n",
    "m = int(input(\"Введіть кількість стовпців (m): \"))\n",
    "result_array = generate_array_with_numpy(n, m)\n",
    "print(result_array)"
   ]
  },
  {
   "cell_type": "code",
   "execution_count": 10,
   "id": "4311366e-1842-414f-a523-92884b0cb9ec",
   "metadata": {},
   "outputs": [
    {
     "name": "stdin",
     "output_type": "stream",
     "text": [
      "Введіть кількість рядків (n):  10\n",
      "Введіть кількість стовпців (m):  10\n"
     ]
    },
    {
     "name": "stdout",
     "output_type": "stream",
     "text": [
      "[0, 1, 2, 3, 4, 5, 6, 7, 8, 9]\n",
      "[0, 0, 0, 0, 0, 0, 0, 0, 0, 0]\n",
      "[0, 0, 0, 0, 0, 0, 0, 0, 0, 0]\n",
      "[0, 0, 0, 0, 0, 0, 0, 0, 0, 0]\n",
      "[0, 0, 0, 0, 0, 0, 0, 0, 0, 0]\n",
      "[0, 0, 0, 0, 0, 0, 0, 0, 0, 0]\n",
      "[0, 0, 0, 0, 0, 0, 0, 0, 0, 0]\n",
      "[0, 0, 0, 0, 0, 0, 0, 0, 0, 0]\n",
      "[0, 0, 0, 0, 0, 0, 0, 0, 0, 0]\n",
      "[0, 0, 0, 0, 0, 0, 0, 0, 0, 0]\n"
     ]
    }
   ],
   "source": [
    "def generate_array_with_loops(n, m):\n",
    "    # Створення порожньої матриці розміром n × m\n",
    "    array = []\n",
    "    \n",
    "    # Заповнення першого рядка числами від 0 до m-1\n",
    "    first_row = list(range(m))\n",
    "    array.append(first_row)\n",
    "    \n",
    "    # Додавання рядків, які містять лише нулі\n",
    "    for _ in range(1, n):\n",
    "        row = [0] * m\n",
    "        array.append(row)\n",
    "    \n",
    "    return array\n",
    "\n",
    "# Введення чисел n і m\n",
    "n = int(input(\"Введіть кількість рядків (n): \"))\n",
    "m = int(input(\"Введіть кількість стовпців (m): \"))\n",
    "result_array = generate_array_with_loops(n, m)\n",
    "for row in result_array:\n",
    "    print(row)"
   ]
  },
  {
   "cell_type": "code",
   "execution_count": 11,
   "id": "2b59a3d9-f426-4081-875e-1bae6813477f",
   "metadata": {},
   "outputs": [
    {
     "name": "stdin",
     "output_type": "stream",
     "text": [
      "Введіть розмірність матриці n × n:  10\n"
     ]
    },
    {
     "name": "stdout",
     "output_type": "stream",
     "text": [
      "[[1 1 1 1 1 1 1 1 1 1]\n",
      " [0 0 0 0 0 0 0 0 0 0]\n",
      " [1 1 1 1 1 1 1 1 1 1]\n",
      " [0 0 0 0 0 0 0 0 0 0]\n",
      " [1 1 1 1 1 1 1 1 1 1]\n",
      " [0 0 0 0 0 0 0 0 0 0]\n",
      " [1 1 1 1 1 1 1 1 1 1]\n",
      " [0 0 0 0 0 0 0 0 0 0]\n",
      " [1 1 1 1 1 1 1 1 1 1]\n",
      " [0 0 0 0 0 0 0 0 0 0]]\n"
     ]
    }
   ],
   "source": [
    "import numpy as np\n",
    "\n",
    "def generate_array_with_numpy(n):\n",
    "    # Створення матриці розміром n × n\n",
    "    array = np.zeros((n, n), dtype=int)\n",
    "    \n",
    "    # Заповнення рядків з парними індексами 1\n",
    "    array[::2] = 1\n",
    "    \n",
    "    return array\n",
    "\n",
    "# Введення числа n\n",
    "n = int(input(\"Введіть розмірність матриці n × n: \"))\n",
    "result_array = generate_array_with_numpy(n)\n",
    "print(result_array)"
   ]
  },
  {
   "cell_type": "code",
   "execution_count": 12,
   "id": "23d6c75e-d9b3-4562-bcf2-fa67a28b5ab0",
   "metadata": {},
   "outputs": [
    {
     "name": "stdin",
     "output_type": "stream",
     "text": [
      "Введіть розмірність матриці n × n:  10\n"
     ]
    },
    {
     "name": "stdout",
     "output_type": "stream",
     "text": [
      "[1, 1, 1, 1, 1, 1, 1, 1, 1, 1]\n",
      "[0, 0, 0, 0, 0, 0, 0, 0, 0, 0]\n",
      "[1, 1, 1, 1, 1, 1, 1, 1, 1, 1]\n",
      "[0, 0, 0, 0, 0, 0, 0, 0, 0, 0]\n",
      "[1, 1, 1, 1, 1, 1, 1, 1, 1, 1]\n",
      "[0, 0, 0, 0, 0, 0, 0, 0, 0, 0]\n",
      "[1, 1, 1, 1, 1, 1, 1, 1, 1, 1]\n",
      "[0, 0, 0, 0, 0, 0, 0, 0, 0, 0]\n",
      "[1, 1, 1, 1, 1, 1, 1, 1, 1, 1]\n",
      "[0, 0, 0, 0, 0, 0, 0, 0, 0, 0]\n"
     ]
    }
   ],
   "source": [
    "def generate_array_with_loops(n):\n",
    "    # Створення порожньої матриці розміром n × n\n",
    "    array = []\n",
    "    \n",
    "    # Заповнення рядків з парними індексами 1\n",
    "    for i in range(n):\n",
    "        if i % 2 == 0:\n",
    "            row = [1] * n\n",
    "        else:\n",
    "            row = [0] * n\n",
    "        array.append(row)\n",
    "    \n",
    "    return array\n",
    "\n",
    "# Введення числа n\n",
    "n = int(input(\"Введіть розмірність матриці n × n: \"))\n",
    "result_array = generate_array_with_loops(n)\n",
    "for row in result_array:\n",
    "    print(row)"
   ]
  },
  {
   "cell_type": "code",
   "execution_count": 13,
   "id": "ea15be6b-b672-405a-9382-99b2ce75abf6",
   "metadata": {},
   "outputs": [
    {
     "name": "stdin",
     "output_type": "stream",
     "text": [
      "Введіть елементи масиву через пробіл:  0 0 0 0 1\n"
     ]
    },
    {
     "name": "stdout",
     "output_type": "stream",
     "text": [
      "Кількість нульових елементів: 4\n",
      "Кількість ненульових елементів: 1\n"
     ]
    }
   ],
   "source": [
    "import numpy as np\n",
    "\n",
    "def count_elements_with_numpy(array):\n",
    "    zero_count = np.count_nonzero(array == 0)\n",
    "    non_zero_count = np.count_nonzero(array != 0)\n",
    "    return zero_count, non_zero_count\n",
    "\n",
    "# Введення масиву з клавіатури\n",
    "array = np.array(list(map(int, input(\"Введіть елементи масиву через пробіл: \").split())))\n",
    "\n",
    "zero_count, non_zero_count = count_elements_with_numpy(array)\n",
    "print(\"Кількість нульових елементів:\", zero_count)\n",
    "print(\"Кількість ненульових елементів:\", non_zero_count)"
   ]
  },
  {
   "cell_type": "code",
   "execution_count": 14,
   "id": "fa92b9f3-b802-4ad6-b6ca-b31f704b2dac",
   "metadata": {},
   "outputs": [
    {
     "name": "stdin",
     "output_type": "stream",
     "text": [
      "Введіть елементи масиву через пробіл:  1 1 1 0 2 3 45\n"
     ]
    },
    {
     "name": "stdout",
     "output_type": "stream",
     "text": [
      "Кількість нульових елементів: 1\n",
      "Кількість ненульових елементів: 6\n"
     ]
    }
   ],
   "source": [
    "def count_elements_with_loops(array):\n",
    "    zero_count = sum(1 for element in array if element == 0)\n",
    "    non_zero_count = sum(1 for element in array if element != 0)\n",
    "    return zero_count, non_zero_count\n",
    "\n",
    "# Введення масиву з клавіатури\n",
    "array = list(map(int, input(\"Введіть елементи масиву через пробіл: \").split()))\n",
    "\n",
    "zero_count, non_zero_count = count_elements_with_loops(array)\n",
    "print(\"Кількість нульових елементів:\", zero_count)\n",
    "print(\"Кількість ненульових елементів:\", non_zero_count)"
   ]
  },
  {
   "cell_type": "code",
   "execution_count": 17,
   "id": "2e310eff-3387-4a22-81a6-400d0c707647",
   "metadata": {},
   "outputs": [
    {
     "name": "stdin",
     "output_type": "stream",
     "text": [
      "Введіть число n:  22\n"
     ]
    },
    {
     "name": "stdout",
     "output_type": "stream",
     "text": [
      "Масив: [22 21 20 19 18 17 16 15 14 13 12 11 10  9  8  7  6  5  4  3  2  1  0]\n"
     ]
    }
   ],
   "source": [
    "import numpy as np\n",
    "\n",
    "def create_array_with_numpy(n):\n",
    "    array = np.arange(n, -1, -1)\n",
    "    return array\n",
    "\n",
    "# Введення числа n\n",
    "n = int(input(\"Введіть число n: \"))\n",
    "result_array = create_array_with_numpy(n)\n",
    "print(\"Масив:\", result_array)"
   ]
  },
  {
   "cell_type": "code",
   "execution_count": 15,
   "id": "719c64cd-c003-4493-9d89-3e65ed75f68a",
   "metadata": {},
   "outputs": [
    {
     "name": "stdin",
     "output_type": "stream",
     "text": [
      "Введіть число n:  15\n"
     ]
    },
    {
     "name": "stdout",
     "output_type": "stream",
     "text": [
      "Масив: [15, 14, 13, 12, 11, 10, 9, 8, 7, 6, 5, 4, 3, 2, 1, 0]\n"
     ]
    }
   ],
   "source": [
    "def create_array_with_loops(n):\n",
    "    array = [i for i in range(n, -1, -1)]\n",
    "    return array\n",
    "\n",
    "# Введення числа n\n",
    "n = int(input(\"Введіть число n: \"))\n",
    "result_array = create_array_with_loops(n)\n",
    "print(\"Масив:\", result_array)"
   ]
  },
  {
   "cell_type": "code",
   "execution_count": 16,
   "id": "80b7bd28-82a8-48bf-9981-5568bbe56a31",
   "metadata": {},
   "outputs": [
    {
     "name": "stdin",
     "output_type": "stream",
     "text": [
      "Введіть розмірність масиву n x n:  22\n"
     ]
    },
    {
     "name": "stdout",
     "output_type": "stream",
     "text": [
      "Масив з рамкою з нулів та центром з одиниць:\n",
      "[[0 0 0 0 0 0 0 0 0 0 0 0 0 0 0 0 0 0 0 0 0 0]\n",
      " [0 1 1 1 1 1 1 1 1 1 1 1 1 1 1 1 1 1 1 1 1 0]\n",
      " [0 1 1 1 1 1 1 1 1 1 1 1 1 1 1 1 1 1 1 1 1 0]\n",
      " [0 1 1 1 1 1 1 1 1 1 1 1 1 1 1 1 1 1 1 1 1 0]\n",
      " [0 1 1 1 1 1 1 1 1 1 1 1 1 1 1 1 1 1 1 1 1 0]\n",
      " [0 1 1 1 1 1 1 1 1 1 1 1 1 1 1 1 1 1 1 1 1 0]\n",
      " [0 1 1 1 1 1 1 1 1 1 1 1 1 1 1 1 1 1 1 1 1 0]\n",
      " [0 1 1 1 1 1 1 1 1 1 1 1 1 1 1 1 1 1 1 1 1 0]\n",
      " [0 1 1 1 1 1 1 1 1 1 1 1 1 1 1 1 1 1 1 1 1 0]\n",
      " [0 1 1 1 1 1 1 1 1 1 1 1 1 1 1 1 1 1 1 1 1 0]\n",
      " [0 1 1 1 1 1 1 1 1 1 1 1 1 1 1 1 1 1 1 1 1 0]\n",
      " [0 1 1 1 1 1 1 1 1 1 1 1 1 1 1 1 1 1 1 1 1 0]\n",
      " [0 1 1 1 1 1 1 1 1 1 1 1 1 1 1 1 1 1 1 1 1 0]\n",
      " [0 1 1 1 1 1 1 1 1 1 1 1 1 1 1 1 1 1 1 1 1 0]\n",
      " [0 1 1 1 1 1 1 1 1 1 1 1 1 1 1 1 1 1 1 1 1 0]\n",
      " [0 1 1 1 1 1 1 1 1 1 1 1 1 1 1 1 1 1 1 1 1 0]\n",
      " [0 1 1 1 1 1 1 1 1 1 1 1 1 1 1 1 1 1 1 1 1 0]\n",
      " [0 1 1 1 1 1 1 1 1 1 1 1 1 1 1 1 1 1 1 1 1 0]\n",
      " [0 1 1 1 1 1 1 1 1 1 1 1 1 1 1 1 1 1 1 1 1 0]\n",
      " [0 1 1 1 1 1 1 1 1 1 1 1 1 1 1 1 1 1 1 1 1 0]\n",
      " [0 1 1 1 1 1 1 1 1 1 1 1 1 1 1 1 1 1 1 1 1 0]\n",
      " [0 0 0 0 0 0 0 0 0 0 0 0 0 0 0 0 0 0 0 0 0 0]]\n"
     ]
    }
   ],
   "source": [
    "import numpy as np\n",
    "\n",
    "def create_frame_with_numpy(n):\n",
    "    array = np.zeros((n, n), dtype=int)  # Створення масиву розміром n x n заповненого нулями\n",
    "    array[1:-1, 1:-1] = 1  # Заповнення центральної частини масиву одиницями\n",
    "    return array\n",
    "\n",
    "# Введення числа n\n",
    "n = int(input(\"Введіть розмірність масиву n x n: \"))\n",
    "result_array = create_frame_with_numpy(n)\n",
    "print(\"Масив з рамкою з нулів та центром з одиниць:\")\n",
    "print(result_array)"
   ]
  },
  {
   "cell_type": "code",
   "execution_count": 18,
   "id": "955b6aa7-6df6-447a-b633-d51b71f50241",
   "metadata": {},
   "outputs": [
    {
     "name": "stdin",
     "output_type": "stream",
     "text": [
      "Введіть розмірність масиву n x n:  5\n"
     ]
    },
    {
     "name": "stdout",
     "output_type": "stream",
     "text": [
      "Масив з рамкою з нулів та центром з одиниць:\n",
      "[0, 0, 0, 0, 0]\n",
      "[0, 1, 1, 1, 0]\n",
      "[0, 1, 1, 1, 0]\n",
      "[0, 1, 1, 1, 0]\n",
      "[0, 0, 0, 0, 0]\n"
     ]
    }
   ],
   "source": [
    "def create_frame_with_loops(n):\n",
    "    array = [[0] * n for _ in range(n)]  # Створення масиву розміром n x n заповненого нулями\n",
    "    \n",
    "    # Заповнення центральної частини масиву одиницями\n",
    "    for i in range(1, n - 1):\n",
    "        for j in range(1, n - 1):\n",
    "            array[i][j] = 1\n",
    "            \n",
    "    return array\n",
    "\n",
    "# Введення числа n\n",
    "n = int(input(\"Введіть розмірність масиву n x n: \"))\n",
    "result_array = create_frame_with_loops(n)\n",
    "print(\"Масив з рамкою з нулів та центром з одиниць:\")\n",
    "for row in result_array:\n",
    "    print(row)"
   ]
  },
  {
   "cell_type": "code",
   "execution_count": 19,
   "id": "f9f5ed70-ba6d-40d4-8638-f910bfce79ab",
   "metadata": {},
   "outputs": [
    {
     "name": "stdout",
     "output_type": "stream",
     "text": [
      "[0, 1, 0, 1, 0, 1, 0, 1]\n",
      "[1, 0, 1, 0, 1, 0, 1, 0]\n",
      "[0, 1, 0, 1, 0, 1, 0, 1]\n",
      "[1, 0, 1, 0, 1, 0, 1, 0]\n",
      "[0, 1, 0, 1, 0, 1, 0, 1]\n",
      "[1, 0, 1, 0, 1, 0, 1, 0]\n",
      "[0, 1, 0, 1, 0, 1, 0, 1]\n",
      "[1, 0, 1, 0, 1, 0, 1, 0]\n"
     ]
    }
   ],
   "source": [
    "# Створення рядків з нулями та одиницями\n",
    "even_row = [0, 1] * 4\n",
    "odd_row = [1, 0] * 4\n",
    "\n",
    "# Повторення рядків, щоб створити шахматну дошку\n",
    "board = [even_row if i % 2 == 0 else odd_row for i in range(8)]\n",
    "\n",
    "for row in board:\n",
    "    print(row)"
   ]
  },
  {
   "cell_type": "code",
   "execution_count": 20,
   "id": "e0a3bc84-ce43-46ed-8349-9d4d3e7b546f",
   "metadata": {},
   "outputs": [
    {
     "name": "stdout",
     "output_type": "stream",
     "text": [
      "[0, 1, 0, 1, 0, 1, 0, 1]\n",
      "[1, 0, 1, 0, 1, 0, 1, 0]\n",
      "[0, 1, 0, 1, 0, 1, 0, 1]\n",
      "[1, 0, 1, 0, 1, 0, 1, 0]\n",
      "[0, 1, 0, 1, 0, 1, 0, 1]\n",
      "[1, 0, 1, 0, 1, 0, 1, 0]\n",
      "[0, 1, 0, 1, 0, 1, 0, 1]\n",
      "[1, 0, 1, 0, 1, 0, 1, 0]\n"
     ]
    }
   ],
   "source": [
    "even_row = [0, 1] * 4\n",
    "odd_row = [1, 0] * 4\n",
    "\n",
    "# Формування шахматної дошки\n",
    "board = []\n",
    "for i in range(8):\n",
    "    if i % 2 == 0:\n",
    "        board.append(even_row)\n",
    "    else:\n",
    "        board.append(odd_row)\n",
    "\n",
    "# Виведення шахматної дошки\n",
    "for row in board:\n",
    "    print(row)"
   ]
  },
  {
   "cell_type": "code",
   "execution_count": 21,
   "id": "61c57289-0dd7-4aa1-9489-f2e82bb9f1aa",
   "metadata": {},
   "outputs": [
    {
     "name": "stdin",
     "output_type": "stream",
     "text": [
      "Введіть розмірність матриці n × n:  10\n"
     ]
    },
    {
     "name": "stdout",
     "output_type": "stream",
     "text": [
      "Матриця з заповненими парними стовпчиками одиницями:\n",
      "[[1 0 1 0 1 0 1 0 1 0]\n",
      " [1 0 1 0 1 0 1 0 1 0]\n",
      " [1 0 1 0 1 0 1 0 1 0]\n",
      " [1 0 1 0 1 0 1 0 1 0]\n",
      " [1 0 1 0 1 0 1 0 1 0]\n",
      " [1 0 1 0 1 0 1 0 1 0]\n",
      " [1 0 1 0 1 0 1 0 1 0]\n",
      " [1 0 1 0 1 0 1 0 1 0]\n",
      " [1 0 1 0 1 0 1 0 1 0]\n",
      " [1 0 1 0 1 0 1 0 1 0]]\n"
     ]
    }
   ],
   "source": [
    "import numpy as np\n",
    "\n",
    "def fill_matrix_with_numpy(n):\n",
    "    # Створення порожньої матриці розміром n × n\n",
    "    matrix = np.zeros((n, n), dtype=int)\n",
    "    \n",
    "    # Заповнення парних стовпчиків одиницями\n",
    "    matrix[:, ::2] = 1\n",
    "    \n",
    "    return matrix\n",
    "\n",
    "# Введення числа n\n",
    "n = int(input(\"Введіть розмірність матриці n × n: \"))\n",
    "result_matrix = fill_matrix_with_numpy(n)\n",
    "print(\"Матриця з заповненими парними стовпчиками одиницями:\")\n",
    "print(result_matrix)"
   ]
  },
  {
   "cell_type": "code",
   "execution_count": 22,
   "id": "18deb29b-c4ff-4e22-8fa6-2c1ef6bf6722",
   "metadata": {},
   "outputs": [
    {
     "name": "stdin",
     "output_type": "stream",
     "text": [
      "Введіть розмірність матриці n × n:  10\n"
     ]
    },
    {
     "name": "stdout",
     "output_type": "stream",
     "text": [
      "Матриця з заповненими парними стовпчиками одиницями:\n",
      "[1, 0, 1, 0, 1, 0, 1, 0, 1, 0]\n",
      "[1, 0, 1, 0, 1, 0, 1, 0, 1, 0]\n",
      "[1, 0, 1, 0, 1, 0, 1, 0, 1, 0]\n",
      "[1, 0, 1, 0, 1, 0, 1, 0, 1, 0]\n",
      "[1, 0, 1, 0, 1, 0, 1, 0, 1, 0]\n",
      "[1, 0, 1, 0, 1, 0, 1, 0, 1, 0]\n",
      "[1, 0, 1, 0, 1, 0, 1, 0, 1, 0]\n",
      "[1, 0, 1, 0, 1, 0, 1, 0, 1, 0]\n",
      "[1, 0, 1, 0, 1, 0, 1, 0, 1, 0]\n",
      "[1, 0, 1, 0, 1, 0, 1, 0, 1, 0]\n"
     ]
    }
   ],
   "source": [
    "def fill_matrix_with_loops(n):\n",
    "    # Створення порожньої матриці розміром n × n\n",
    "    matrix = [[0] * n for _ in range(n)]\n",
    "    \n",
    "    # Заповнення парних стовпчиків одиницями\n",
    "    for i in range(n):\n",
    "        for j in range(n):\n",
    "            if j % 2 == 0:\n",
    "                matrix[i][j] = 1\n",
    "    \n",
    "    return matrix\n",
    "\n",
    "# Введення числа n\n",
    "n = int(input(\"Введіть розмірність матриці n × n: \"))\n",
    "result_matrix = fill_matrix_with_loops(n)\n",
    "print(\"Матриця з заповненими парними стовпчиками одиницями:\")\n",
    "for row in result_matrix:\n",
    "    print(row)"
   ]
  },
  {
   "cell_type": "code",
   "execution_count": 23,
   "id": "e8addeca-e59d-4774-8a51-4919b5683125",
   "metadata": {},
   "outputs": [
    {
     "name": "stdin",
     "output_type": "stream",
     "text": [
      "Введіть кількість елементів у векторі:  5\n"
     ]
    },
    {
     "name": "stdout",
     "output_type": "stream",
     "text": [
      "Вектор із 5 елементів, рівномірно розміщених на інтервалі (0,1):\n",
      "[0.  0.2 0.4 0.6 0.8]\n"
     ]
    }
   ],
   "source": [
    "import numpy as np\n",
    "\n",
    "def generate_vector_with_numpy(n):\n",
    "    # Генерування вектора із n елементів на інтервалі (0,1)\n",
    "    vector = np.linspace(0, 1, num=n, endpoint=False)\n",
    "    return vector.round(3)\n",
    "\n",
    "# Введення числа n\n",
    "n = int(input(\"Введіть кількість елементів у векторі: \"))\n",
    "result_vector = generate_vector_with_numpy(n)\n",
    "print(\"Вектор із {} елементів, рівномірно розміщених на інтервалі (0,1):\".format(n))\n",
    "print(result_vector)"
   ]
  },
  {
   "cell_type": "code",
   "execution_count": 24,
   "id": "b6c8a54a-d576-4e89-8a90-2f71a0b82442",
   "metadata": {},
   "outputs": [
    {
     "name": "stdin",
     "output_type": "stream",
     "text": [
      "Введіть кількість елементів у векторі:  5\n"
     ]
    },
    {
     "name": "stdout",
     "output_type": "stream",
     "text": [
      "Вектор із 5 елементів, рівномірно розміщених на інтервалі (0,1):\n",
      "[0.0, 0.2, 0.4, 0.6, 0.8]\n"
     ]
    }
   ],
   "source": [
    "def generate_vector_without_numpy(n):\n",
    "    # Обчислення кроку між елементами\n",
    "    step = 1 / n\n",
    "    \n",
    "    # Генерування вектора із n елементів на інтервалі (0,1)\n",
    "    vector = [round(i * step, 3) for i in range(n)]\n",
    "    return vector\n",
    "\n",
    "# Введення числа n\n",
    "n = int(input(\"Введіть кількість елементів у векторі: \"))\n",
    "result_vector = generate_vector_without_numpy(n)\n",
    "print(\"Вектор із {} елементів, рівномірно розміщених на інтервалі (0,1):\".format(n))\n",
    "print(result_vector)"
   ]
  },
  {
   "cell_type": "code",
   "execution_count": 25,
   "id": "32aaf9af-14ef-4bcb-8a08-a48b965620f0",
   "metadata": {},
   "outputs": [
    {
     "name": "stdout",
     "output_type": "stream",
     "text": [
      "Розв'язок за допомогою формул Крамера: [1.0000000000000004, 1.9999999999999982, 0.9999999999999987, -1.0]\n"
     ]
    }
   ],
   "source": [
    "import numpy as np\n",
    "\n",
    "# Коефіцієнти системи рівнянь (ліва частина)\n",
    "coefficients = np.array([[0, 1, -3, 4],\n",
    "                         [1, 0, -2, 3],\n",
    "                         [3, 2, 0, -5],\n",
    "                         [4, 3, -5, 0]], dtype=float)\n",
    "\n",
    "# Вільні члени системи рівнянь (права частина)\n",
    "constants = np.array([-5, -4, 12, 5], dtype=float)\n",
    "\n",
    "# Функція для обчислення детермінанту матриці\n",
    "def determinant(matrix):\n",
    "    return np.linalg.det(matrix)\n",
    "\n",
    "# Реалізація методу Крамера для розв'язання системи рівнянь\n",
    "def solve_cramers_rule(coefficients, constants):\n",
    "    n = len(coefficients)\n",
    "    results = []\n",
    "    main_determinant = determinant(coefficients)\n",
    "\n",
    "    for i in range(n):\n",
    "        # Заміна i-го стовпчика коефіцієнтів на вектор констант\n",
    "        coeffs_copy = coefficients.copy()\n",
    "        coeffs_copy[:, i] = constants\n",
    "\n",
    "        # Обчислення детермінанту заміщеної матриці\n",
    "        det_i = determinant(coeffs_copy)\n",
    "\n",
    "        # Розв'язання за формулою Крамера\n",
    "        result_i = det_i / main_determinant\n",
    "        results.append(result_i)\n",
    "\n",
    "    return results\n",
    "\n",
    "# Розв'язання системи за допомогою Крамера\n",
    "solution = solve_cramers_rule(coefficients, constants)\n",
    "print(\"Розв'язок за допомогою формул Крамера:\", solution)"
   ]
  },
  {
   "cell_type": "code",
   "execution_count": 26,
   "id": "b4550741-fe10-4f45-b7a3-0707dde92cad",
   "metadata": {},
   "outputs": [
    {
     "name": "stdout",
     "output_type": "stream",
     "text": [
      "Перевірка за допомогою матричного множення: [-5. -4. 12.  5.]\n"
     ]
    }
   ],
   "source": [
    "# Перевірка за допомогою матричного множення\n",
    "verification_a = np.dot(coefficients, solution)\n",
    "print(\"Перевірка за допомогою матричного множення:\", verification_a)"
   ]
  },
  {
   "cell_type": "code",
   "execution_count": 27,
   "id": "8e771beb-d847-48eb-bd58-19aaf912683a",
   "metadata": {},
   "outputs": [
    {
     "name": "stdout",
     "output_type": "stream",
     "text": [
      "Перевірка за допомогою оберненої матриці: [ 1.  2.  1. -1.]\n"
     ]
    }
   ],
   "source": [
    "# Перевірка за допомогою оберненої матриці\n",
    "inverse_coefficients = np.linalg.inv(coefficients)\n",
    "verification_b = np.dot(inverse_coefficients, constants)\n",
    "print(\"Перевірка за допомогою оберненої матриці:\", verification_b)"
   ]
  },
  {
   "cell_type": "code",
   "execution_count": 28,
   "id": "1f99a28d-af42-4d49-b8e4-17f903bd82f8",
   "metadata": {},
   "outputs": [
    {
     "name": "stdout",
     "output_type": "stream",
     "text": [
      "Перевірка за допомогою numpy.linalg.solve(): [ 1.  2.  1. -1.]\n"
     ]
    }
   ],
   "source": [
    "# Перевірка за допомогою numpy.linalg.solve()\n",
    "verification_c = np.linalg.solve(coefficients, constants)\n",
    "print(\"Перевірка за допомогою numpy.linalg.solve():\", verification_c)"
   ]
  },
  {
   "cell_type": "code",
   "execution_count": 29,
   "id": "150926f0-4545-4f23-bd12-9e822ba5e977",
   "metadata": {},
   "outputs": [
    {
     "name": "stdout",
     "output_type": "stream",
     "text": [
      "Результат з використанням NumPy:\n",
      "[[298 169 147]\n",
      " [282 165 144]\n",
      " [-53 -29 -15]]\n"
     ]
    }
   ],
   "source": [
    "import numpy as np\n",
    "\n",
    "# Задання матриць A та B\n",
    "A = np.array([[7, 2, 0], [-7, -3, 2], [2, 2, 0]])\n",
    "B = np.array([[0, 2, 3], [1, 0, -2], [3, 1, 0]])\n",
    "\n",
    "# Обчислення квадратів матриць A та B\n",
    "A_squared = np.square(A)\n",
    "B_squared = np.square(B)\n",
    "\n",
    "# Обчислення різниці квадратів\n",
    "squared_diff = A_squared - B_squared\n",
    "\n",
    "# Обчислення суми матриць A та B\n",
    "sum_matrix = A + B\n",
    "\n",
    "# Обчислення значення матричного виразу\n",
    "result_matrix = np.dot(squared_diff, sum_matrix)\n",
    "print(\"Результат з використанням NumPy:\")\n",
    "print(result_matrix)"
   ]
  },
  {
   "cell_type": "code",
   "execution_count": 30,
   "id": "645feca2-054c-4537-b99b-b42ea69b04c4",
   "metadata": {},
   "outputs": [
    {
     "name": "stdout",
     "output_type": "stream",
     "text": [
      "Результат за допомогою ітеративних конструкцій:\n",
      "[[298, 169, 147], [282, 165, 144], [-53, -29, -15]]\n"
     ]
    }
   ],
   "source": [
    "import numpy as np\n",
    "\n",
    "# Задання матриць A та B\n",
    "A = np.array([[7, 2, 0], [-7, -3, 2], [2, 2, 0]])\n",
    "B = np.array([[0, 2, 3], [1, 0, -2], [3, 1, 0]])\n",
    "\n",
    "# Обчислення квадратів матриць A та B\n",
    "A_squared = np.square(A)\n",
    "B_squared = np.square(B)\n",
    "\n",
    "# Обчислення різниці квадратів\n",
    "squared_diff = A_squared - B_squared\n",
    "\n",
    "# Обчислення суми матриць A та B\n",
    "sum_matrix = A + B\n",
    "\n",
    "# Обчислення значення матричного виразу за допомогою ітеративних конструкцій\n",
    "result_matrix = [[0 for _ in range(len(A))] for _ in range(len(A))]\n",
    "\n",
    "for i in range(len(A)):\n",
    "    for j in range(len(A[0])):\n",
    "        result_matrix[i][j] = sum((A_squared[i][k] - B_squared[i][k]) * sum_matrix[k][j] for k in range(len(A)))\n",
    "\n",
    "print(\"Результат за допомогою ітеративних конструкцій:\")\n",
    "print(result_matrix)"
   ]
  },
  {
   "cell_type": "code",
   "execution_count": 32,
   "id": "2eddedad-10e4-4c54-816f-eef9ea1dc609",
   "metadata": {},
   "outputs": [
    {
     "name": "stdout",
     "output_type": "stream",
     "text": [
      "Час виконання з використанням NumPy: 0.0 сек\n",
      "Час виконання за допомогою ітеративних конструкцій: 0.0009989738464355469 сек\n"
     ]
    }
   ],
   "source": [
    "import numpy as np\n",
    "import time\n",
    "\n",
    "# Задання матриць A та B\n",
    "A = np.array([[7, 2, 0], [-7, -3, 2], [2, 2, 0]])\n",
    "B = np.array([[0, 2, 3], [1, 0, -2], [3, 1, 0]])\n",
    "\n",
    "# Замір часу виконання з використанням універсальних функцій бібліотеки NumPy\n",
    "start_time = time.time()\n",
    "\n",
    "# Обчислення квадратів матриць A та B\n",
    "A_squared = np.square(A)\n",
    "B_squared = np.square(B)\n",
    "\n",
    "# Обчислення різниці квадратів\n",
    "squared_diff = A_squared - B_squared\n",
    "\n",
    "# Обчислення суми матриць A та B\n",
    "sum_matrix = A + B\n",
    "\n",
    "# Обчислення значення матричного виразу\n",
    "result_matrix = np.dot(squared_diff, sum_matrix)\n",
    "\n",
    "end_time = time.time()\n",
    "execution_time_numpy = end_time - start_time\n",
    "print(\"Час виконання з використанням NumPy:\", execution_time_numpy, \"сек\")\n",
    "\n",
    "# Замір часу виконання за допомогою ітеративних конструкцій\n",
    "start_time = time.time()\n",
    "\n",
    "# Обчислення квадратів матриць A та B\n",
    "A_squared = np.square(A)\n",
    "B_squared = np.square(B)\n",
    "\n",
    "# Обчислення різниці квадратів\n",
    "squared_diff = A_squared - B_squared\n",
    "\n",
    "# Обчислення суми матриць A та B\n",
    "sum_matrix = A + B\n",
    "\n",
    "# Обчислення значення матричного виразу за допомогою ітеративних конструкцій\n",
    "result_matrix = [[0 for _ in range(len(A))] for _ in range(len(A))]\n",
    "\n",
    "for i in range(len(A)):\n",
    "    for j in range(len(A[0])):\n",
    "        result_matrix[i][j] = sum((A_squared[i][k] - B_squared[i][k]) * sum_matrix[k][j] for k in range(len(A)))\n",
    "\n",
    "end_time = time.time()\n",
    "execution_time_iterative = end_time - start_time\n",
    "print(\"Час виконання за допомогою ітеративних конструкцій:\", execution_time_iterative, \"сек\")\n"
   ]
  }
 ],
 "metadata": {
  "kernelspec": {
   "display_name": "Python 3 (ipykernel)",
   "language": "python",
   "name": "python3"
  },
  "language_info": {
   "codemirror_mode": {
    "name": "ipython",
    "version": 3
   },
   "file_extension": ".py",
   "mimetype": "text/x-python",
   "name": "python",
   "nbconvert_exporter": "python",
   "pygments_lexer": "ipython3",
   "version": "3.10.4"
  }
 },
 "nbformat": 4,
 "nbformat_minor": 5
}
